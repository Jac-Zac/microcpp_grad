{
 "cells": [
  {
   "cell_type": "code",
   "execution_count": 9,
   "id": "f6739f0f",
   "metadata": {},
   "outputs": [],
   "source": [
    "from pymicrograd import Value"
   ]
  },
  {
   "cell_type": "code",
   "execution_count": 10,
   "id": "8a3879e4",
   "metadata": {},
   "outputs": [
    {
     "data": {
      "text/plain": [
       "Value(data=15, grad=1, label=)"
      ]
     },
     "execution_count": 10,
     "metadata": {},
     "output_type": "execute_result"
    }
   ],
   "source": [
    "a = Value(10.0)\n",
    "b = Value(5.0)\n",
    "c = a + b\n",
    "c.backward()\n",
    "c\n",
    "# c.draw_graph()"
   ]
  }
 ],
 "metadata": {
  "kernelspec": {
   "display_name": "Python 3 (ipykernel)",
   "language": "python",
   "name": "python3"
  },
  "language_info": {
   "codemirror_mode": {
    "name": "ipython",
    "version": 3
   },
   "file_extension": ".py",
   "mimetype": "text/x-python",
   "name": "python",
   "nbconvert_exporter": "python",
   "pygments_lexer": "ipython3",
   "version": "3.11.2"
  }
 },
 "nbformat": 4,
 "nbformat_minor": 5
}
