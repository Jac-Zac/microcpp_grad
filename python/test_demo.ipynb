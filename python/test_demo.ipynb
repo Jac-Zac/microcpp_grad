{
 "cells": [
  {
   "cell_type": "code",
   "execution_count": 7,
   "id": "6c0ade93",
   "metadata": {},
   "outputs": [],
   "source": [
    "from pymicrograd import Value"
   ]
  },
  {
   "cell_type": "code",
   "execution_count": 8,
   "id": "358459a0",
   "metadata": {},
   "outputs": [
    {
     "name": "stderr",
     "output_type": "stream",
     "text": [
      "Error: graph.dot: syntax error in line 5 near '|'\n"
     ]
    }
   ],
   "source": [
    "a = Value(10.0)\n",
    "b = Value(5.0)\n",
    "c += a * b\n",
    "c.backward()\n",
    "c.draw_graph()"
   ]
  }
 ],
 "metadata": {
  "kernelspec": {
   "display_name": "Python 3 (ipykernel)",
   "language": "python",
   "name": "python3"
  },
  "language_info": {
   "codemirror_mode": {
    "name": "ipython",
    "version": 3
   },
   "file_extension": ".py",
   "mimetype": "text/x-python",
   "name": "python",
   "nbconvert_exporter": "python",
   "pygments_lexer": "ipython3",
   "version": "3.11.2"
  }
 },
 "nbformat": 4,
 "nbformat_minor": 5
}
