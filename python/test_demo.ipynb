{
 "cells": [
  {
   "cell_type": "code",
   "execution_count": 1,
   "id": "6c0ade93",
   "metadata": {},
   "outputs": [],
   "source": [
    "from pymicrograd import *"
   ]
  },
  {
   "cell_type": "code",
   "execution_count": 2,
   "id": "358459a0",
   "metadata": {},
   "outputs": [
    {
     "name": "stderr",
     "output_type": "stream",
     "text": [
      "Error: graph.dot: syntax error in line 7 near '|'\n",
      "The file /Users/jaczac/Github/Micrograd_C++/python/graph.svg does not exist.\n"
     ]
    }
   ],
   "source": [
    "n = Neuron(2,3)\n",
    "x = [Value(2.0, \"frst\"),Value(3.0, \"second\")]\n",
    "y = n(x)\n",
    "y[0].backward()\n",
    "y[0].draw_graph()"
   ]
  },
  {
   "cell_type": "code",
   "execution_count": 3,
   "id": "42420eec",
   "metadata": {},
   "outputs": [
    {
     "data": {
      "text/plain": [
       "Value(data=-0.132288, grad=1, label=)"
      ]
     },
     "execution_count": 3,
     "metadata": {},
     "output_type": "execute_result"
    }
   ],
   "source": [
    "y[0]"
   ]
  }
 ],
 "metadata": {
  "kernelspec": {
   "display_name": "Python 3 (ipykernel)",
   "language": "python",
   "name": "python3"
  },
  "language_info": {
   "codemirror_mode": {
    "name": "ipython",
    "version": 3
   },
   "file_extension": ".py",
   "mimetype": "text/x-python",
   "name": "python",
   "nbconvert_exporter": "python",
   "pygments_lexer": "ipython3",
   "version": "3.11.2"
  }
 },
 "nbformat": 4,
 "nbformat_minor": 5
}
